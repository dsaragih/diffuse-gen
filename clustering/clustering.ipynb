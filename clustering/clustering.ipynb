{
 "cells": [
  {
   "cell_type": "code",
   "execution_count": 2,
   "metadata": {},
   "outputs": [],
   "source": [
    "import matplotlib.pyplot as plt\n",
    "from PIL import Image\n",
    "import pickle\n",
    "import numpy as np\n",
    "from utils_flexit import inception\n",
    "from guided_diffusion.guided_diffusion import dist_util\n",
    "from sklearn.cluster import KMeans\n",
    "import blobfile as bf\n",
    "from torchvision.transforms import functional as TF\n",
    "import torch"
   ]
  },
  {
   "cell_type": "code",
   "execution_count": 3,
   "metadata": {},
   "outputs": [],
   "source": [
    "shape = (256, 256)\n",
    "data_dir = \"./guided_diffusion/segmented-images/masked-images\"\n",
    "def _list_image_files_recursively(data_dir):\n",
    "    results = []\n",
    "    for entry in sorted(bf.listdir(data_dir)):\n",
    "        full_path = bf.join(data_dir, entry)\n",
    "        ext = entry.split(\".\")[-1]\n",
    "        if \".\" in entry and ext.lower() in [\"jpg\", \"jpeg\", \"png\", \"gif\"]:\n",
    "            results.append(full_path)\n",
    "        elif bf.isdir(full_path):\n",
    "            results.extend(_list_image_files_recursively(full_path))\n",
    "    return results\n",
    "\n",
    "src_image_paths = _list_image_files_recursively(data_dir)"
   ]
  },
  {
   "cell_type": "code",
   "execution_count": 4,
   "metadata": {},
   "outputs": [],
   "source": [
    "# Cluster the images based on inception features\n",
    "def ret_img_mask(img_path):\n",
    "    img_dir = bf.dirname(bf.dirname(img_path))\n",
    "    mask_dir = bf.join(img_dir, \"masks\")\n",
    "\n",
    "    mask_path = bf.join(mask_dir, bf.basename(img_path))\n",
    "\n",
    "    img = Image.open(img_path).convert(\"RGB\")\n",
    "    img = img.resize(shape, Image.LANCZOS)\n",
    "    mask = Image.open(mask_path).convert(\"RGB\")\n",
    "    mask = mask.resize(shape, Image.LANCZOS)\n",
    "    arr = np.array(img)\n",
    "    mask_arr = np.array(mask)\n",
    "    return arr, mask_arr\n",
    "\n",
    "\n",
    "def get_inception_features(img_paths):\n",
    "    dist_util.setup_dist()\n",
    "    inception_model = inception.InceptionV3()\n",
    "    inception_model = inception_model.to(dist_util.dev())\n",
    "\n",
    "    inception_model.eval()\n",
    "    inception_model.requires_grad_(False)\n",
    "    features_map = {}\n",
    "\n",
    "    for i, path in enumerate(img_paths):\n",
    "        # Since inception only takes 3 channel inputs, we append the mask features to the image features\n",
    "        if i % 10 == 0:\n",
    "            print(f\"Processing image {i}/{len(img_paths)}\")\n",
    "        img, mask = ret_img_mask(path)\n",
    "        img, mask = TF.to_tensor(img).unsqueeze(0), TF.to_tensor(mask).unsqueeze(0)\n",
    "        img, mask = img.to(dist_util.dev()), mask.to(dist_util.dev())\n",
    "        feat = inception_model(img).squeeze().detach().cpu().numpy()\n",
    "        mask_feat = inception_model(mask).squeeze().detach().cpu().numpy()\n",
    "        feat = np.concatenate([feat, mask_feat], axis=0)\n",
    "\n",
    "        features_map[path] = feat\n",
    "    return features_map\n",
    "\n",
    "def create_clusters(features_map, num_clusters=10):\n",
    "    features = np.array(list(features_map.values()))\n",
    "    paths = np.array(list(features_map.keys()))\n",
    "    kmeans = KMeans(n_clusters=num_clusters, random_state=0).fit(features)\n",
    "    clusters = {}\n",
    "    for i in range(num_clusters):\n",
    "        clusters[i] = paths[kmeans.labels_ == i]\n",
    "    return clusters"
   ]
  },
  {
   "cell_type": "code",
   "execution_count": null,
   "metadata": {},
   "outputs": [],
   "source": [
    "path = src_image_paths[0]\n",
    "print(path)\n",
    "img, mask = ret_img_mask(path)\n",
    "fig = plt.figure(figsize=(10, 10), dpi=100, frameon=False)\n",
    "ax = fig.add_subplot(1, 2, 1)\n",
    "ax.imshow(img)\n",
    "ax = fig.add_subplot(1, 2, 2)\n",
    "ax.imshow(mask)"
   ]
  },
  {
   "cell_type": "code",
   "execution_count": null,
   "metadata": {},
   "outputs": [],
   "source": [
    "features_map = get_inception_features(src_image_paths)\n",
    "print(len(features_map))\n",
    "print(len(features_map[src_image_paths[0]]))"
   ]
  },
  {
   "cell_type": "code",
   "execution_count": null,
   "metadata": {},
   "outputs": [],
   "source": [
    "n_clusters=40\n",
    "clusters = create_clusters(features_map, num_clusters=n_clusters)\n",
    "# with open('./clusters.pkl', 'rb') as f:\n",
    "#     clusters = pickle.load(f)\n",
    "# Length of each cluster\n",
    "[len(clusters[i]) for i in range(n_clusters)]"
   ]
  },
  {
   "cell_type": "code",
   "execution_count": null,
   "metadata": {},
   "outputs": [],
   "source": [
    "# Sample images from the clusters\n",
    "def sample_images_from_clusters(clusters, num_samples=1, max_clusters=20):\n",
    "    # Sample at least 20 clusters\n",
    "    sample_idxs = np.random.choice(len(clusters), min(max_clusters, n_clusters), replace=False)\n",
    "    for idx in sample_idxs:\n",
    "        cluster = clusters[idx]\n",
    "        paths = np.random.choice(cluster, num_samples if num_samples < len(cluster) else len(cluster), replace=False)\n",
    "        # Plot images in the same cluster in the same figure\n",
    "        w, h = 3, 3\n",
    "        dpi = 512\n",
    "        fig = plt.figure(figsize=(w, h), dpi=dpi, frameon=False)\n",
    "        for i, path in enumerate(paths):\n",
    "            ax = fig.add_subplot(1, num_samples, i + 1)\n",
    "            img = Image.open(path).convert(\"RGB\")\n",
    "            img = img.resize(shape, Image.LANCZOS)\n",
    "            ax.imshow(img)\n",
    "            ax.axis(\"off\")\n",
    "        # set title\n",
    "        plt.show()\n",
    "\n",
    "sample_images_from_clusters(clusters, num_samples=5)"
   ]
  },
  {
   "cell_type": "code",
   "execution_count": 19,
   "metadata": {},
   "outputs": [],
   "source": [
    "# Save clusters as pkl\n",
    "with open(f\"./clusters_{n_clusters}.pkl\", \"wb\") as f:\n",
    "    pickle.dump(clusters, f)"
   ]
  },
  {
   "cell_type": "markdown",
   "metadata": {},
   "source": []
  },
  {
   "cell_type": "code",
   "execution_count": null,
   "metadata": {},
   "outputs": [],
   "source": []
  }
 ],
 "metadata": {
  "kernelspec": {
   "display_name": "diff-seg",
   "language": "python",
   "name": "python3"
  },
  "language_info": {
   "codemirror_mode": {
    "name": "ipython",
    "version": 3
   },
   "file_extension": ".py",
   "mimetype": "text/x-python",
   "name": "python",
   "nbconvert_exporter": "python",
   "pygments_lexer": "ipython3",
   "version": "3.9.16"
  }
 },
 "nbformat": 4,
 "nbformat_minor": 2
}
